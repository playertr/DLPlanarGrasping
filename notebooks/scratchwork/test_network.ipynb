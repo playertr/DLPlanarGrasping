{
 "metadata": {
  "language_info": {
   "codemirror_mode": {
    "name": "ipython",
    "version": 3
   },
   "file_extension": ".py",
   "mimetype": "text/x-python",
   "name": "python",
   "nbconvert_exporter": "python",
   "pygments_lexer": "ipython3",
   "version": "3.6.9"
  },
  "orig_nbformat": 2,
  "kernelspec": {
   "name": "python369jvsc74a57bd031f2aee4e71d21fbe5cf8b01ff0e069b9275f58929596ceb00d14d90e3e16cd6",
   "display_name": "Python 3.6.9 64-bit"
  },
  "metadata": {
   "interpreter": {
    "hash": "31f2aee4e71d21fbe5cf8b01ff0e069b9275f58929596ceb00d14d90e3e16cd6"
   }
  }
 },
 "nbformat": 4,
 "nbformat_minor": 2,
 "cells": [
  {
   "cell_type": "code",
   "execution_count": null,
   "metadata": {},
   "outputs": [],
   "source": [
    "import sys\n",
    "sys.path.insert(0, '/home/auvdock/Rakesh/OSU/Spring 21/Deep Learning/PlanarGrasping/')\n",
    "# sys.path.insert(0, '/home/tim/Classes/CS535/PlanarGrasping/network/')\n",
    "\n",
    "import pickle\n",
    "import matplotlib.pyplot as plt\n",
    "\n",
    "from network.model import net, data_loader\n",
    "from network import utils\n",
    "import numpy as np\n",
    "\n",
    "from IPython import display\n",
    "%matplotlib inline\n",
    "\n",
    "import torch\n",
    "\n",
    "import torch.optim as optim"
   ]
  },
  {
   "cell_type": "code",
   "execution_count": null,
   "metadata": {},
   "outputs": [],
   "source": [
    "json_path = '/home/auvdock/Rakesh/OSU/Spring 21/Deep Learning/PlanarGrasping/network/experiments/sdf_cnn/params.json'\n",
    "params = utils.Params(json_path)\n",
    "params.cuda = torch.cuda.is_available()\n",
    "\n",
    "data_dir = '/home/auvdock/Rakesh/OSU/Spring 21/Deep Learning/PlanarGrasping/network/data'\n",
    "\n",
    "# fetch dataloaders\n",
    "dataloaders = data_loader.fetch_dataloader(\n",
    "    ['train', 'val'],data_dir, params)\n",
    "train_dl = dataloaders['train']\n",
    "val_dl = dataloaders['val']\n",
    "\n",
    "# Define the model and optimizer\n",
    "model = net.Net(params).cuda()\n",
    "optimizer = optim.Adam(model.parameters(), lr=params.learning_rate)\n",
    "\n",
    "model.eval()\n",
    "\n",
    "# reload weights from restore_file if specified\n",
    "weight_file = '/home/auvdock/Rakesh/OSU/Spring 21/Deep Learning/PlanarGrasping/network/experiments/sdf_cnn/best.pth.tar'\n",
    "utils.load_checkpoint(weight_file, model, optimizer)\n",
    "print()\n"
   ]
  },
  {
   "cell_type": "code",
   "execution_count": null,
   "metadata": {},
   "outputs": [],
   "source": [
    "for i, (train_batch, labels_batch) in enumerate(val_dl):\n",
    "\n",
    "    scan_pts = train_batch[0][:-1,:].numpy()\n",
    "    bounds = [0, 15, -5, 5]\n",
    "    xs = np.linspace(*bounds[:2], 100)\n",
    "    ys = np.linspace(*bounds[2:], 100)\n",
    "    X, Y = np.meshgrid(xs, ys)\n",
    "    pts = np.column_stack([\n",
    "        X.ravel(),\n",
    "        Y.ravel()\n",
    "    ])\n",
    "\n",
    "    dists = []\n",
    "    for pt in pts:\n",
    "        s = torch.Tensor(np.vstack([scan_pts, pt])).cuda()\n",
    "        dists.append(model.forward(s).cpu().detach().numpy())\n",
    "\n",
    "    fig, ax = plt.subplots()\n",
    "    # ax.scatter(X.ravel(), Y.ravel(), c=dists)\n",
    "    ax.tricontourf(X.ravel(), Y.ravel(), dists, levels=14, cmap=\"viridis\")\n",
    "    ax.tricontour(X.ravel(), Y.ravel(), dists, levels=[0.4])\n",
    "    ax.plot(scan_pts[:,0], scan_pts[:,1])\n",
    "    plt.pause(0.01)"
   ]
  },
  {
   "cell_type": "code",
   "execution_count": null,
   "metadata": {},
   "outputs": [],
   "source": [
    "for i, (train_batch, labels_batch) in enumerate(val_dl):\n",
    "    scan_pts = train_batch[0][:-1,:].numpy()\n",
    "    query_pt = train_batch[0][-1,:].numpy()\n",
    "    print(query_pt)\n",
    "    print(labels_batch[0])\n",
    "    print(model.forward(train_batch[0].float().cuda()))\n",
    "    break"
   ]
  }
 ]
}